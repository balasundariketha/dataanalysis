{
  "nbformat": 4,
  "nbformat_minor": 0,
  "metadata": {
    "colab": {
      "provenance": [],
      "authorship_tag": "ABX9TyNCmSHBcbqOczKszSk/4xcY",
      "include_colab_link": true
    },
    "kernelspec": {
      "name": "python3",
      "display_name": "Python 3"
    },
    "language_info": {
      "name": "python"
    }
  },
  "cells": [
    {
      "cell_type": "markdown",
      "metadata": {
        "id": "view-in-github",
        "colab_type": "text"
      },
      "source": [
        "<a href=\"https://colab.research.google.com/github/balasundariketha/dataanalysis/blob/main/Bigdata.ipynb\" target=\"_parent\"><img src=\"https://colab.research.google.com/assets/colab-badge.svg\" alt=\"Open In Colab\"/></a>"
      ]
    },
    {
      "cell_type": "code",
      "execution_count": null,
      "metadata": {
        "id": "dzeumpD7yr7J",
        "colab": {
          "base_uri": "https://localhost:8080/"
        },
        "outputId": "59b84b11-1afc-4cb3-ac8d-37e4bc7bee59"
      },
      "outputs": [
        {
          "output_type": "stream",
          "name": "stdout",
          "text": [
            "volume of data: 10000\n"
          ]
        }
      ],
      "source": [
        "import numpy as np\n",
        "#generate a large volume of random data(eg. 1 millon data points)\n",
        "volume_data=np.random.rand(10000)\n",
        "print(\"volume of data:\",len(volume_data))"
      ]
    },
    {
      "cell_type": "code",
      "source": [
        "import time\n",
        "#simulate streaming data every second for 10 seconds\n",
        "for i in range(10):\n",
        "  velocity_data=np.random.rand( )#generate random data\n",
        "  print(\"velocity data point:\",velocity_data)\n",
        "  time.sleep(2)#wait for 1 second to simulate real-time data stream"
      ],
      "metadata": {
        "colab": {
          "base_uri": "https://localhost:8080/"
        },
        "id": "ZTTE-x8M4U0O",
        "outputId": "2d155214-e8a6-4d52-8e8f-0c88da339b63"
      },
      "execution_count": null,
      "outputs": [
        {
          "output_type": "stream",
          "name": "stdout",
          "text": [
            "velocity data point: 0.19218234203857842\n",
            "velocity data point: 0.11228599301432385\n",
            "velocity data point: 0.36932743631230436\n",
            "velocity data point: 0.7268448396960641\n",
            "velocity data point: 0.08277329178111137\n",
            "velocity data point: 0.601880671536156\n",
            "velocity data point: 0.7334711455785717\n",
            "velocity data point: 0.9038045321311553\n",
            "velocity data point: 0.8546577272043181\n",
            "velocity data point: 0.568493214007379\n"
          ]
        }
      ]
    },
    {
      "cell_type": "code",
      "source": [
        "#structured data\n",
        "structured_data={'id':1,'name':'John','age':30}\n",
        "print(structured_data)\n",
        "#semi-structured data(JSON)\n",
        "semi_structured_data={'person':{'name':'Alice','age':25,'city':'New York'}}\n",
        "#unstructured data(text)\n",
        "unstructured_data=\"This is a sample text document.It can contain any information in free form\""
      ],
      "metadata": {
        "colab": {
          "base_uri": "https://localhost:8080/"
        },
        "id": "z6DoMx6X4lGp",
        "outputId": "390358b7-2b3a-4053-a925-04cd367cf895"
      },
      "execution_count": null,
      "outputs": [
        {
          "output_type": "stream",
          "name": "stdout",
          "text": [
            "{'id': 1, 'name': 'John', 'age': 30}\n"
          ]
        }
      ]
    },
    {
      "cell_type": "code",
      "source": [
        "import random\n",
        "#generate some random data with noise\n",
        "veracity_data=[random.choice([1,2,3,None])for _ in range(20)]\n",
        "print(\"veracity data:\",veracity_data)"
      ],
      "metadata": {
        "id": "feSZ7CZg4sDm",
        "outputId": "6a8fbdcd-db52-4dfe-b37e-4a48fac8b985",
        "colab": {
          "base_uri": "https://localhost:8080/"
        }
      },
      "execution_count": null,
      "outputs": [
        {
          "output_type": "stream",
          "name": "stdout",
          "text": [
            "veracity data: [1, 1, 1, 3, None, 1, 1, 3, None, 1, 2, 1, None, 1, 2, None, 2, None, 3, 2]\n"
          ]
        }
      ]
    }
  ]
}