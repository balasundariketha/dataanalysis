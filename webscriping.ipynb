{
  "nbformat": 4,
  "nbformat_minor": 0,
  "metadata": {
    "colab": {
      "provenance": [],
      "authorship_tag": "ABX9TyNJK8flciYosfLHt/fSt3Jr",
      "include_colab_link": true
    },
    "kernelspec": {
      "name": "python3",
      "display_name": "Python 3"
    },
    "language_info": {
      "name": "python"
    }
  },
  "cells": [
    {
      "cell_type": "markdown",
      "metadata": {
        "id": "view-in-github",
        "colab_type": "text"
      },
      "source": [
        "<a href=\"https://colab.research.google.com/github/balasundariketha/dataanalysis/blob/main/webscriping.ipynb\" target=\"_parent\"><img src=\"https://colab.research.google.com/assets/colab-badge.svg\" alt=\"Open In Colab\"/></a>"
      ]
    },
    {
      "cell_type": "code",
      "execution_count": null,
      "metadata": {
        "id": "Y3iLBeZvB0xC"
      },
      "outputs": [],
      "source": [
        "from bs4 import BeautifulSoup\n",
        "import requests"
      ]
    },
    {
      "cell_type": "code",
      "source": [
        "url=\"https://telegram.org/\""
      ],
      "metadata": {
        "id": "A3gM-gIlRvoP"
      },
      "execution_count": null,
      "outputs": []
    },
    {
      "cell_type": "code",
      "source": [
        "page=requests.get(url)"
      ],
      "metadata": {
        "id": "5ThVjAhXSm8H"
      },
      "execution_count": null,
      "outputs": []
    },
    {
      "cell_type": "code",
      "source": [
        "soup=BeautifulSoup(page.text,'html')\n",
        "print(soup)"
      ],
      "metadata": {
        "colab": {
          "base_uri": "https://localhost:8080/"
        },
        "id": "3-Y53P6zStT_",
        "outputId": "e29ab7a7-3185-4f93-d2dc-086cbd97aa27"
      },
      "execution_count": null,
      "outputs": [
        {
          "output_type": "stream",
          "name": "stdout",
          "text": [
            "<!DOCTYPE html>\n",
            "<html class=\"\">\n",
            "<head>\n",
            "<meta charset=\"utf-8\"/>\n",
            "<title>Telegram Messenger</title>\n",
            "<meta content=\"width=device-width, initial-scale=1.0\" name=\"viewport\"/>\n",
            "<meta content=\"Telegram – a new era of messaging\" property=\"og:title\"/>\n",
            "<meta content=\"https://telegram.org/img/t_logo.png\" property=\"og:image\"/>\n",
            "<meta content=\"Telegram\" property=\"og:site_name\"/>\n",
            "<meta content=\"Fast. Secure. Powerful.\" property=\"og:description\"/>\n",
            "<meta content=\"254098051407226\" property=\"fb:app_id\"/>\n",
            "<meta content=\"3782569\" property=\"vk:app_id\"/>\n",
            "<meta content=\"app-id=686449807\" name=\"apple-itunes-app\"/>\n",
            "<meta content=\"@telegram\" name=\"telegram:channel\"/>\n",
            "<link href=\"/img/website_icon.svg?4\" rel=\"icon\" type=\"image/svg+xml\"/>\n",
            "<link href=\"/img/apple-touch-icon.png\" rel=\"apple-touch-icon\" sizes=\"180x180\"/>\n",
            "<link href=\"/img/favicon-32x32.png\" rel=\"icon\" sizes=\"32x32\" type=\"image/png\"/>\n",
            "<link href=\"/img/favicon-16x16.png\" rel=\"icon\" sizes=\"16x16\" type=\"image/png\"/>\n",
            "<link href=\"/img/favicon.ico\" rel=\"alternate icon\" type=\"image/x-icon\"/>\n",
            "<link href=\"/css/bootstrap.min.css?3\" rel=\"stylesheet\"/>\n",
            "<link href=\"/css/telegram.css?236\" media=\"screen\" rel=\"stylesheet\"/>\n",
            "</head>\n",
            "<body class=\"preload\">\n",
            "<div id=\"fb-root\"></div>\n",
            "<div class=\"tl_page_wrap\">\n",
            "<div class=\"tl_page_head navbar navbar-static-top navbar navbar-tg\">\n",
            "<div class=\"navbar-inner\">\n",
            "<div class=\"container clearfix\">\n",
            "<ul class=\"nav navbar-nav navbar-right\"><li class=\"dropdown top_lang_select\"><a class=\"dropdown-toggle\" href=\"#\" onclick=\"return dropdownClick(this, event)\"><i class=\"dev_top_lang_icon\"></i> <b class=\"minicaret\"></b></a>\n",
            "<ul class=\"dropdown-menu\"><li class=\"\"><a href=\"?setln=en\">English</a></li><li class=\"long\"><a href=\"?setln=id\">Bahasa Indonesia</a></li><li class=\"long\"><a href=\"?setln=ms\">Bahasa Melayu</a></li><li class=\"\"><a href=\"?setln=de\">Deutsch</a></li><li class=\"\"><a href=\"?setln=es\">Español</a></li><li class=\"\"><a href=\"?setln=fr\">Français</a></li><li class=\"\"><a href=\"?setln=it\">Italiano</a></li><li class=\"\"><a href=\"?setln=nl\">Nederlands</a></li><li class=\"\"><a href=\"?setln=uz\">O‘zbek</a></li><li class=\"\"><a href=\"?setln=pl\">Polski</a></li><li class=\"long\"><a href=\"?setln=pt-br\">Português (Brasil)</a></li><li class=\"\"><a href=\"?setln=tr\">Türkçe</a></li><li class=\"\"><a href=\"?setln=be\">Беларуская</a></li><li class=\"\"><a href=\"?setln=ru\">Русский</a></li><li class=\"\"><a href=\"?setln=uk\">Українська</a></li><li class=\"\"><a href=\"?setln=ar\">العربية</a></li><li class=\"\"><a href=\"?setln=fa\">فارسی</a></li><li class=\"\"><a href=\"?setln=ko\">한국어</a></li></ul></li><li class=\"navbar-twitter hidden-xs\"><a data-track=\"Follow/Twitter\" href=\"https://twitter.com/telegram\" onclick=\"trackDlClick(this, event)\" target=\"_blank\"><i class=\"icon icon-twitter\"></i> Twitter</a></li></ul>\n",
            "<ul class=\"nav navbar-nav\">\n",
            "<li class=\"active\"><a href=\"/\">Home</a></li>\n",
            "<li class=\"\"><a href=\"/faq\">FAQ</a></li>\n",
            "<li class=\"\"><a href=\"/apps\">Apps</a></li>\n",
            "<li class=\"hidden-xs\"><a href=\"//core.telegram.org/api\">API</a></li>\n",
            "<li class=\"hidden-xs\"><a href=\"//core.telegram.org/mtproto\">Protocol</a></li>\n",
            "</ul>\n",
            "</div>\n",
            "</div>\n",
            "</div>\n",
            "<div class=\"container clearfix tl_page_container tl_main_page_container\">\n",
            "<div class=\"tl_page\">\n",
            "<div class=\"tl_main_wrap\">\n",
            "<div class=\"tl_main_head\">\n",
            "<div class=\"tl_main_side_blog\"><div class=\"side_blog_wrap\">\n",
            "<div class=\"side_blog\">\n",
            "<a class=\"side_blog_header\" href=\"/blog\">Recent News</a>\n",
            "<div class=\"side_blog_entries\">\n",
            "<a class=\"side_blog_entry\" href=\"/blog/february2024\">\n",
            "<div class=\"side_blog_date\">Feb 29</div>\n",
            "<div class=\"side_blog_title\">Stories for Groups and 8 More Features</div>\n",
            "</a><a class=\"side_blog_entry\" href=\"/blog/new-saved-messages-and-9-more\">\n",
            "<div class=\"side_blog_date\">Jan 31</div>\n",
            "<div class=\"side_blog_title\">Saved Messages 2.0, One-Time Voice Messages and 8 More Features</div>\n",
            "</a><a class=\"side_blog_entry\" href=\"/blog/calls-and-bots\">\n",
            "<div class=\"side_blog_date\">Dec 31</div>\n",
            "<div class=\"side_blog_title\">Colorful Calls, Thanos Snap Effect, and Better Bots</div>\n",
            "</a>\n",
            "</div>\n",
            "</div>\n",
            "</div></div>\n",
            "<div class=\"tl_main_logo_wrap\">\n",
            "<a class=\"tl_main_logo\" href=\"/\">\n",
            "<div class=\"tl_main_logo\"></div>\n",
            "<svg alt=\"Telegram\" class=\"tl_main_logo_title_image\" height=\"72\" viewbox=\"0 0 288 72\" width=\"288\" xmlns=\"http://www.w3.org/2000/svg\"><path d=\"m57.015 16.258c5.18 0 9.181 1.652 12.006 4.957 2.824 3.305 4.236 7.98 4.236 14.027v3.446h-24.855c.257 3.14 1.306 5.625 3.146 7.453s4.154 2.742 6.943 2.742c3.914 0 7.102-1.582 9.563-4.746l4.605 4.394c-1.523 2.274-3.556 4.037-6.099 5.291s-5.397 1.881-8.561 1.881c-5.414 0-9.803-1.705-13.166-5.115s-5.045-7.951-5.045-13.623v-1.055c0-3.797.733-7.189 2.198-10.178 1.464-2.988 3.521-5.314 6.169-6.978 2.649-1.664 5.602-2.496 8.86-2.496zm-15.827-12.445v7.171h-15.961v44.016h-8.825v-44.016h-15.82v-7.171zm15.792 19.3c-2.344 0-4.237.821-5.678 2.461-1.441 1.641-2.361 3.926-2.76 6.856h16.278v-.633c-.188-2.859-.95-5.022-2.286-6.486-1.336-1.465-3.187-2.198-5.554-2.198zm30.292 31.887h-8.543v-54h8.543zm24.051.703c-5.414 0-9.803-1.705-13.166-5.115-3.364-3.41-5.045-7.951-5.045-13.623v-1.055c0-3.797.732-7.189 2.197-10.178 1.465-2.988 3.521-5.314 6.17-6.978 2.648-1.664 5.601-2.496 8.859-2.496 5.18 0 9.182 1.652 12.006 4.957s4.236 7.98 4.236 14.027v3.446h-24.855c.258 3.14 1.307 5.625 3.146 7.453 1.84 1.828 4.155 2.742 6.944 2.742 3.914 0 7.101-1.582 9.562-4.746l4.606 4.394c-1.524 2.274-3.557 4.037-6.1 5.291s-5.396 1.881-8.56 1.881zm-1.02-32.59c-2.344 0-4.236.821-5.678 2.461-1.441 1.641-2.361 3.926-2.759 6.856h16.277v-.633c-.188-2.859-.949-5.022-2.285-6.486-1.336-1.465-3.188-2.198-5.555-2.198zm20.41 12.586c0-5.906 1.389-10.623 4.166-14.15 2.778-3.528 6.463-5.291 11.057-5.291 4.336 0 7.746 1.512 10.23 4.535l.387-3.832h7.699v36.879c0 4.992-1.552 8.93-4.658 11.812-3.105 2.883-7.295 4.325-12.568 4.325-2.789 0-5.514-.581-8.174-1.741s-4.682-2.677-6.065-4.552l4.043-5.133c2.625 3.117 5.86 4.676 9.704 4.676 2.836 0 5.074-.768 6.714-2.303 1.641-1.535 2.461-3.791 2.461-6.768v-2.566c-2.461 2.742-5.742 4.113-9.843 4.113-4.454 0-8.092-1.769-10.916-5.308-2.825-3.54-4.237-8.438-4.237-14.696zm8.508.739c0 3.82.779 6.826 2.338 9.017s3.721 3.287 6.486 3.287c3.446 0 6-1.476 7.664-4.429v-16.735c-1.617-2.883-4.148-4.324-7.593-4.324-2.813 0-4.998 1.113-6.557 3.34-1.559 2.226-2.338 5.508-2.338 9.844zm52.719-11.672c-1.125-.188-2.285-.282-3.481-.282-3.914 0-6.55 1.5-7.91 4.5v26.016h-8.543v-38.039h8.156l.211 4.254c2.063-3.305 4.922-4.957 8.579-4.957 1.218 0 2.226.164 3.023.492zm26.07 30.234c-.375-.727-.703-1.91-.984-3.551-2.719 2.836-6.047 4.254-9.985 4.254-3.82 0-6.937-1.09-9.351-3.269-2.414-2.18-3.621-4.875-3.621-8.086 0-4.055 1.506-7.166 4.517-9.334 3.012-2.168 7.319-3.252 12.92-3.252h5.239v-2.496c0-1.969-.551-3.545-1.653-4.729-1.101-1.183-2.777-1.775-5.027-1.775-1.945 0-3.539.486-4.781 1.459-1.243.972-1.864 2.209-1.864 3.709h-8.543c0-2.086.692-4.037 2.075-5.854 1.382-1.816 3.263-3.24 5.642-4.271 2.379-1.032 5.033-1.547 7.963-1.547 4.453 0 8.004 1.119 10.652 3.357 2.649 2.239 4.008 5.385 4.078 9.44v17.156c0 3.422.481 6.152 1.442 8.191v.598zm-9.387-6.152c1.688 0 3.276-.41 4.764-1.231 1.488-.82 2.608-1.922 3.358-3.304v-7.172h-4.606c-3.164 0-5.543.55-7.137 1.652-1.593 1.102-2.39 2.66-2.39 4.676 0 1.64.545 2.947 1.634 3.92 1.09.972 2.549 1.459 4.377 1.459zm32.645-31.887.246 3.973c2.672-3.118 6.328-4.676 10.969-4.676 5.086 0 8.566 1.945 10.441 5.836 2.766-3.891 6.656-5.836 11.672-5.836 4.195 0 7.318 1.16 9.369 3.48 2.051 2.321 3.1 5.742 3.147 10.266v24.996h-8.543v-24.75c0-2.414-.528-4.184-1.582-5.309-1.055-1.125-2.801-1.687-5.239-1.687-1.945 0-3.533.521-4.763 1.564-1.231 1.043-2.092 2.409-2.584 4.096l.035 26.086h-8.543v-25.031c-.117-4.477-2.402-6.715-6.856-6.715-3.421 0-5.847 1.394-7.277 4.184v27.562h-8.543v-38.039z\" fill=\"#4d4d4d\"></path></svg>\n",
            "</a>\n",
            "<p class=\"tl_main_logo_lead\">a new era of messaging</p>\n",
            "</div>\n",
            "</div>\n",
            "<div class=\"tl_main_download_mobile clearfix\">\n",
            "<a class=\"tl_main_download_link tl_main_download_link_android\" data-track=\"AppDownload/Android\" href=\"/android\" onclick=\"trackDlClick(this, event)\" onmouseout=\"mainDemoVideoHover(this, 0)\" onmouseover=\"mainDemoVideoHover(this, 1)\">\n",
            "<i class=\"icon icon-android\"></i>Telegram for <b>Android</b>\n",
            "<div class=\"tl_main_download_image__android\"></div>\n",
            "<video class=\"tl_main_video_player tl_main_video_player__android video__init_retina\" data-sources=\"/img/t_main_Android_demo.mp4,/img/t_main_Android_demo_2x.mp4\" muted=\"\" preload=\"none\" vindex=\"1\"></video>\n",
            "</a><a class=\"tl_main_download_link tl_main_download_link_ios\" data-track=\"AppDownload/iOS\" href=\"/dl/ios\" onclick=\"trackDlClick(this, event)\" onmouseout=\"mainDemoVideoHover(this, 0)\" onmouseover=\"mainDemoVideoHover(this, 1)\" target=\"_blank\">\n",
            "<i class=\"icon icon-ios\"></i>Telegram for <b>iPhone</b> / <b>iPad</b>\n",
            "<div class=\"tl_main_download_image__ios\"></div>\n",
            "<video class=\"tl_main_video_player tl_main_video_player__ios video__init_retina\" data-sources=\"/img/t_main_iOS_demo.mp4,/img/t_main_iOS_demo_2x.mp4\" muted=\"\" preload=\"none\" vindex=\"1\"></video>\n",
            "</a>\n",
            "<a class=\"tl_main_download_link tl_main_download_link_tdesktop\" data-track=\"AppDownload/TDesktop\" href=\"//desktop.telegram.org/\" onclick=\"trackDlClick(this, event)\">\n",
            "  Telegram for <b>Windows / Mac / Linux</b>\n",
            "</a>\n",
            "<a class=\"tl_main_download_more_btn\" href=\"/apps\">Browse more Telegram apps<i class=\"icon icon-arrow-more\"></i></a>\n",
            "</div>\n",
            "<div class=\"tl_main_download_desktop_section\">\n",
            "<h3 class=\"tl_main_download_desktop_header\"></h3>\n",
            "<div class=\"tl_main_download_desktop_wrap1\">\n",
            "<div class=\"tl_main_download_desktop_wrap\">\n",
            "<div class=\"tl_main_download_desktop clearfix\">\n",
            "<div class=\"tl_main_download_desktop_links clearfix\">\n",
            "<a class=\"tl_main_download_desktop_link tl_main_download_link_td\" data-track=\"DesktopDownload/TDesktop\" href=\"//desktop.telegram.org/\" onclick=\"trackDlClick(this, event)\">\n",
            "            Telegram for <b>PC / Linux</b>\n",
            "</a><a class=\"tl_main_download_desktop_link tl_main_download_link_osx\" data-track=\"DesktopDownload/OSX\" href=\"//macos.telegram.org/\" onclick=\"trackDlClick(this, event)\">\n",
            "            Telegram for <b>macOS</b>\n",
            "</a>\n",
            "</div>\n",
            "</div>\n",
            "</div>\n",
            "</div>\n",
            "</div>\n",
            "<div class=\"tl_main_recent_news_wrap tl_blog_list_page_wrap\">\n",
            "<h3 class=\"tl_main_recent_news_header\">\n",
            "<a href=\"/blog\">Recent News</a>\n",
            "</h3>\n",
            "<div class=\"tl_main_recent_news_cards clearfix\">\n",
            "<a class=\"dev_blog_card_link_wrap\" href=\"/blog/february2024\"><div class=\"dev_blog_card_wrap\">\n",
            "<img class=\"dev_blog_card_image\" src=\"https://telegram.org/file/400780400044/4/Q1UaSDMMPHI.306200/1704172cc8fc21b436\"/>\n",
            "<div class=\"dev_blog_card_alltext_wrap\">\n",
            "<h4 class=\"dev_blog_card_title\">Stories for Groups and 8 More Features</h4>\n",
            "<div class=\"dev_blog_card_lead\">Telegram brings conversation in groups to an entire new level with 9 new features that redefine many-to-many communication. Now, groups can publish stories and save them as posts on…</div>\n",
            "</div>\n",
            "<div class=\"dev_blog_card_date\">Feb 29, 2024</div>\n",
            "</div></a><a class=\"dev_blog_card_link_wrap\" href=\"/blog/new-saved-messages-and-9-more\"><div class=\"dev_blog_card_wrap\">\n",
            "<img class=\"dev_blog_card_image\" src=\"https://telegram.org/file/400780400296/1/9NHuUm1khJE.300782/913468ac6a12d3161d\"/>\n",
            "<div class=\"dev_blog_card_alltext_wrap\">\n",
            "<h4 class=\"dev_blog_card_title\">Saved Messages 2.0, One-Time Voice Messages and 8 More Features</h4>\n",
            "<div class=\"dev_blog_card_lead\">Throughout January, we added 10 new features to Telegram – including upgraded Saved Messages, one-time voice and video messages that delete…</div>\n",
            "</div>\n",
            "<div class=\"dev_blog_card_date\">Jan 31, 2024</div>\n",
            "</div></a>\n",
            "</div>\n",
            "</div>\n",
            "<div class=\"tl_main_body tl_main_cards_animated_wrap\">\n",
            "<a name=\"what-can-you-do-with-Telegram\"></a>\n",
            "<h3 class=\"tl_main_body_header\">Why Telegram?</h3>\n",
            "<div class=\"tl_main_cards\">\n",
            "<div class=\"tl_main_card_cell\">\n",
            "<div class=\"tl_main_card_wrap\">\n",
            "<picture class=\"dev_page_tgsticker tl_main_card_animated js-tgsticker_image\"><div></div><source srcset=\"/file/464001484/1/bzi7gr7XRGU.10147/815df2ef527132dd23\" type=\"application/x-tgsticker\"><img src=\"/file/464001897/3/f0Go0rLpEwk.11343.png/dd4eeb46cc5efc0688\"/></source></picture>\n",
            "<h3 class=\"tl_main_card_header\">Simple</h3>\n",
            "<div class=\"tl_main_card_lead\"><b>Telegram</b> is so simple you already know how to use it.</div>\n",
            "</div>\n",
            "</div>\n",
            "<div class=\"tl_main_card_cell\">\n",
            "<div class=\"tl_main_card_wrap\">\n",
            "<picture class=\"dev_page_tgsticker tl_main_card_animated js-tgsticker_image\"><div></div><source srcset=\"/file/464001418/1/fabnJFzygPY.17422/bc9dec9fd8bd26e00e\" type=\"application/x-tgsticker\"><img src=\"/file/464001737/4/Fn57W9l3xI0.15286.png/d4b936ecc2c939f4fa\"/></source></picture>\n",
            "<h3 class=\"tl_main_card_header\">Private</h3>\n",
            "<div class=\"tl_main_card_lead\"><b>Telegram</b> messages are heavily encrypted and can self-destruct.</div>\n",
            "</div>\n",
            "</div>\n",
            "<div class=\"tl_main_card_cell\">\n",
            "<div class=\"tl_main_card_wrap\">\n",
            "<picture class=\"dev_page_tgsticker tl_main_card_animated js-tgsticker_image\"><div></div><source srcset=\"/file/464001560/1/zLlKYgeDLoA.14496/62085b07461f2d87e4\" type=\"application/x-tgsticker\"><img src=\"/file/464001560/2/n7EACfx4FPY.16465.png/7318c11715aa2ec45b\"/></source></picture>\n",
            "<h3 class=\"tl_main_card_header\">Synced</h3>\n",
            "<div class=\"tl_main_card_lead\"><b>Telegram</b> lets you access your chats from multiple devices.</div>\n",
            "</div>\n",
            "</div>\n",
            "<div class=\"tl_main_card_cell\">\n",
            "<div class=\"tl_main_card_wrap\">\n",
            "<picture class=\"dev_page_tgsticker tl_main_card_animated js-tgsticker_image\"><div></div><source srcset=\"/file/464001493/2/hV6uPcaHk_E.17388/dcccb066a7b4fe44ee\" type=\"application/x-tgsticker\"><img src=\"/file/464001132/3/-1qvqKPZsQQ.17975.png/7d57d7159cf4fbe9b2\"/></source></picture>\n",
            "<h3 class=\"tl_main_card_header\">Fast</h3>\n",
            "<div class=\"tl_main_card_lead\"><b>Telegram</b> delivers messages faster than any other application.</div>\n",
            "</div>\n",
            "</div>\n",
            "<div class=\"tl_main_card_cell\">\n",
            "<div class=\"tl_main_card_wrap\">\n",
            "<picture class=\"dev_page_tgsticker tl_main_card_animated js-tgsticker_image\"><div></div><source srcset=\"/file/464001828/11e99/2FUYW30UXAI.12708/7604effa1e02ddf7f9\" type=\"application/x-tgsticker\"><img src=\"/file/464001828/11e9a/1yY7a721t4o.30567.png/e113973dae2bee508b\"/></source></picture>\n",
            "<h3 class=\"tl_main_card_header\">Powerful</h3>\n",
            "<div class=\"tl_main_card_lead\"><b>Telegram</b> has no limits on the size of your media and chats.</div>\n",
            "</div>\n",
            "</div>\n",
            "<div class=\"tl_main_card_cell\">\n",
            "<div class=\"tl_main_card_wrap\">\n",
            "<picture class=\"dev_page_tgsticker tl_main_card_animated js-tgsticker_image\"><div></div><source srcset=\"/file/464001880/2/VGTLBN3QuYM.10959/8940838e7dddc787d8\" type=\"application/x-tgsticker\"><img src=\"/file/464001880/3/xOpm7ohoHQ0.12690.png/feb1e161b1d3608613\"/></source></picture>\n",
            "<h3 class=\"tl_main_card_header\">Open</h3>\n",
            "<div class=\"tl_main_card_lead\"><b>Telegram</b> has an open <a href=\"https://core.telegram.org/api\">API</a> and source code free for everyone.</div>\n",
            "</div>\n",
            "</div>\n",
            "<div class=\"tl_main_card_cell\">\n",
            "<div class=\"tl_main_card_wrap\">\n",
            "<picture class=\"dev_page_tgsticker tl_main_card_animated js-tgsticker_image\"><div></div><source srcset=\"/file/464001453/2/eW_MzRhUGoM.10926/fe1f3bc3dd08367c0a\" type=\"application/x-tgsticker\"><img src=\"/file/464001453/3/mNzXWC3RX0c.15740.png/9ce5fa5f3fb74460b4\"/></source></picture>\n",
            "<h3 class=\"tl_main_card_header\">Secure</h3>\n",
            "<div class=\"tl_main_card_lead\"><b>Telegram</b> keeps your messages safe from hacker attacks.</div>\n",
            "</div>\n",
            "</div>\n",
            "<div class=\"tl_main_card_cell\">\n",
            "<div class=\"tl_main_card_wrap\">\n",
            "<picture class=\"dev_page_tgsticker tl_main_card_animated js-tgsticker_image\"><div></div><source srcset=\"/file/464001812/2/kLAK2TPyvUU.12545/f68c1caf735a2ea3db\" type=\"application/x-tgsticker\"><img src=\"/file/464001402/5/eOMSj3GzJXo.13579.png/f3cec6c451d023c109\"/></source></picture>\n",
            "<h3 class=\"tl_main_card_header\">Social</h3>\n",
            "<div class=\"tl_main_card_lead\"><b>Telegram</b> groups can hold up to 200,000 members.</div>\n",
            "</div>\n",
            "</div>\n",
            "<div class=\"tl_main_card_cell\">\n",
            "<div class=\"tl_main_card_wrap\">\n",
            "<picture class=\"dev_page_tgsticker tl_main_card_animated js-tgsticker_image\"><div></div><source srcset=\"/file/464001166/1/01aTJ2ISKeU.21801/24028c7b6d07639794\" type=\"application/x-tgsticker\"><img src=\"/file/464001166/2/FzTl8_M5mQA.19325.png/b6c5dbc0e4f6553805\"/></source></picture>\n",
            "<h3 class=\"tl_main_card_header\">Expressive</h3>\n",
            "<div class=\"tl_main_card_lead\"><b>Telegram</b> lets you completely customize your messenger.</div>\n",
            "</div>\n",
            "</div>\n",
            "</div>\n",
            "<div class=\"tl_main_noshare clearfix\"></div>\n",
            "</div>\n",
            "</div>\n",
            "</div>\n",
            "</div>\n",
            "<div class=\"footer_wrap\">\n",
            "<div class=\"footer_columns_wrap footer_desktop\">\n",
            "<div class=\"footer_column footer_column_telegram\">\n",
            "<h5>Telegram</h5>\n",
            "<div class=\"footer_telegram_description\"></div>\n",
            "      Telegram is a cloud-based mobile and desktop messaging app with a focus on security and speed.\n",
            "    </div>\n",
            "<div class=\"footer_column\">\n",
            "<h5><a href=\"/faq\">About</a></h5>\n",
            "<ul>\n",
            "<li><a href=\"/faq\">FAQ</a></li>\n",
            "<li><a href=\"/privacy\">Privacy</a></li>\n",
            "<li><a href=\"/press\">Press</a></li>\n",
            "</ul>\n",
            "</div>\n",
            "<div class=\"footer_column\">\n",
            "<h5><a href=\"/apps#mobile-apps\">Mobile Apps</a></h5>\n",
            "<ul>\n",
            "<li><a href=\"/dl/ios\">iPhone/iPad</a></li>\n",
            "<li><a href=\"/android\">Android</a></li>\n",
            "<li><a href=\"/dl/web\">Mobile Web</a></li>\n",
            "</ul>\n",
            "</div>\n",
            "<div class=\"footer_column\">\n",
            "<h5><a href=\"/apps#desktop-apps\">Desktop Apps</a></h5>\n",
            "<ul>\n",
            "<li><a href=\"//desktop.telegram.org/\">PC/Mac/Linux</a></li>\n",
            "<li><a href=\"//macos.telegram.org/\">macOS</a></li>\n",
            "<li><a href=\"/dl/web\">Web-browser</a></li>\n",
            "</ul>\n",
            "</div>\n",
            "<div class=\"footer_column footer_column_platform\">\n",
            "<h5><a href=\"//core.telegram.org/\">Platform</a></h5>\n",
            "<ul>\n",
            "<li><a href=\"//core.telegram.org/api\">API</a></li>\n",
            "<li><a href=\"//translations.telegram.org/\">Translations</a></li>\n",
            "<li><a href=\"//instantview.telegram.org/\">Instant View</a></li>\n",
            "</ul>\n",
            "</div>\n",
            "</div>\n",
            "<div class=\"footer_columns_wrap footer_mobile\">\n",
            "<div class=\"footer_column\">\n",
            "<h5><a href=\"/faq\">About</a></h5>\n",
            "</div>\n",
            "<div class=\"footer_column\">\n",
            "<h5><a href=\"/blog\">Blog</a></h5>\n",
            "</div>\n",
            "<div class=\"footer_column\">\n",
            "<h5><a href=\"/apps\">Apps</a></h5>\n",
            "</div>\n",
            "<div class=\"footer_column\">\n",
            "<h5><a href=\"//core.telegram.org/\">Platform</a></h5>\n",
            "</div>\n",
            "<div class=\"footer_column\">\n",
            "<h5><a href=\"/press\">Press</a></h5>\n",
            "</div>\n",
            "</div>\n",
            "</div>\n",
            "<script src=\"/js/main.js?47\"></script>\n",
            "<script src=\"/js/tgsticker.js?31\"></script>\n",
            "<script>mainInitRetinaVideos();\n",
            "mainInitLogo(\"\\/img\\/t_logo_sprite.svg\");\n",
            "mainInitTgStickers({\"maxDeviceRatio\":2,\"cachingModulo\":3,\"unsupportedURL\":\"\\/?notgs=1\"});\n",
            "backToTopInit(\"Go up\");\n",
            "removePreloadInit();\n",
            "</script>\n",
            "</div></body>\n",
            "</html>\n",
            "<!-- page generated in 8.85ms -->\n",
            "\n"
          ]
        }
      ]
    },
    {
      "cell_type": "code",
      "source": [
        "title=soup.find('title')\n",
        "print(title)"
      ],
      "metadata": {
        "colab": {
          "base_uri": "https://localhost:8080/"
        },
        "id": "QF_CFXntTCJe",
        "outputId": "4f358102-8fb9-4d3e-f0d2-0192314d49d4"
      },
      "execution_count": null,
      "outputs": [
        {
          "output_type": "stream",
          "name": "stdout",
          "text": [
            "<title>Telegram Messenger</title>\n"
          ]
        }
      ]
    },
    {
      "cell_type": "code",
      "source": [
        "print(title.text)"
      ],
      "metadata": {
        "colab": {
          "base_uri": "https://localhost:8080/"
        },
        "id": "Nuc6YJW2TKC1",
        "outputId": "2fda4a17-d1b6-486a-dc66-d811bb83bdb1"
      },
      "execution_count": null,
      "outputs": [
        {
          "output_type": "stream",
          "name": "stdout",
          "text": [
            "Telegram Messenger\n"
          ]
        }
      ]
    }
  ]
}